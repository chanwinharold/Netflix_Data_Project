{
 "cells": [
  {
   "cell_type": "code",
   "id": "initial_id",
   "metadata": {
    "collapsed": true,
    "ExecuteTime": {
     "end_time": "2025-02-26T15:52:24.001948Z",
     "start_time": "2025-02-26T15:52:23.876665Z"
    }
   },
   "source": [
    "import pandas as pd\n",
    "from datetime import datetime\n",
    "\n",
    "data = pd.read_csv('../data/netflix_titles.csv')"
   ],
   "outputs": [],
   "execution_count": 1
  },
  {
   "metadata": {},
   "cell_type": "markdown",
   "source": "# Nettoyage et Préparation des Données",
   "id": "2d02bcd388a90521"
  },
  {
   "metadata": {},
   "cell_type": "markdown",
   "source": "#### Convertir la colonne \"date_added\" en format datetime",
   "id": "8e4058501a5e130d"
  },
  {
   "metadata": {
    "ExecuteTime": {
     "end_time": "2025-02-26T15:52:25.997215Z",
     "start_time": "2025-02-26T15:52:24.020290Z"
    }
   },
   "cell_type": "code",
   "source": [
    "i = 0\n",
    "for date in data.iloc[: , 6]:\n",
    "    if type(date) != float:\n",
    "        date = datetime.strptime(date.strip(), '%B %d, %Y').date()\n",
    "    data.iloc[i, 6] = date\n",
    "    i += 1\n",
    "data['date_added']"
   ],
   "id": "ebb4978179dcac93",
   "outputs": [
    {
     "data": {
      "text/plain": [
       "0       2021-09-25\n",
       "1       2021-09-24\n",
       "2       2021-09-24\n",
       "3       2021-09-24\n",
       "4       2021-09-24\n",
       "           ...    \n",
       "8802    2019-11-20\n",
       "8803    2019-07-01\n",
       "8804    2019-11-01\n",
       "8805    2020-01-11\n",
       "8806    2019-03-02\n",
       "Name: date_added, Length: 8807, dtype: object"
      ]
     },
     "execution_count": 2,
     "metadata": {},
     "output_type": "execute_result"
    }
   ],
   "execution_count": 2
  },
  {
   "metadata": {},
   "cell_type": "markdown",
   "source": "#### Création d'une colonne \"is_movie\"",
   "id": "6cd55d97215bff06"
  },
  {
   "metadata": {
    "ExecuteTime": {
     "end_time": "2025-02-26T15:52:26.481112Z",
     "start_time": "2025-02-26T15:52:26.475097Z"
    }
   },
   "cell_type": "code",
   "source": "data['is_movie'] = False",
   "id": "3e1eb4224134a7f7",
   "outputs": [],
   "execution_count": 3
  },
  {
   "metadata": {
    "ExecuteTime": {
     "end_time": "2025-02-26T15:52:26.617857Z",
     "start_time": "2025-02-26T15:52:26.607009Z"
    }
   },
   "cell_type": "code",
   "source": "data.loc[data['type'] == 'Movie', 'is_movie'] = True",
   "id": "7646e3caeebc6c2",
   "outputs": [],
   "execution_count": 4
  },
  {
   "metadata": {
    "ExecuteTime": {
     "end_time": "2025-02-26T15:52:26.721785Z",
     "start_time": "2025-02-26T15:52:26.707844Z"
    }
   },
   "cell_type": "code",
   "source": "data['is_movie']",
   "id": "2b6743f4afb0caaf",
   "outputs": [
    {
     "data": {
      "text/plain": [
       "0        True\n",
       "1       False\n",
       "2       False\n",
       "3       False\n",
       "4       False\n",
       "        ...  \n",
       "8802     True\n",
       "8803    False\n",
       "8804     True\n",
       "8805     True\n",
       "8806     True\n",
       "Name: is_movie, Length: 8807, dtype: bool"
      ]
     },
     "execution_count": 5,
     "metadata": {},
     "output_type": "execute_result"
    }
   ],
   "execution_count": 5
  },
  {
   "metadata": {},
   "cell_type": "markdown",
   "source": "#### Remplacement des valeurs manquantes dans \"country\", \"director' et 'cast' par 'Unknown'",
   "id": "b1ca9c0e5b9bc09"
  },
  {
   "metadata": {
    "ExecuteTime": {
     "end_time": "2025-02-26T15:52:26.937201Z",
     "start_time": "2025-02-26T15:52:26.911837Z"
    }
   },
   "cell_type": "code",
   "source": [
    "data.loc[data['country'].isnull(), 'country'] = \"Unknown\"\n",
    "data.loc[data['director'].isnull(), 'director'] = \"Unknown\"\n",
    "data.loc[data['cast'].isnull(), 'cast'] = \"Unknown\""
   ],
   "id": "2bca5a0901da7a6d",
   "outputs": [],
   "execution_count": 6
  },
  {
   "metadata": {
    "ExecuteTime": {
     "end_time": "2025-02-26T15:52:27.015677Z",
     "start_time": "2025-02-26T15:52:26.967242Z"
    }
   },
   "cell_type": "code",
   "source": "data[['country', 'director', 'cast']]",
   "id": "2835a66b6d435e6d",
   "outputs": [
    {
     "data": {
      "text/plain": [
       "            country         director  \\\n",
       "0     United States  Kirsten Johnson   \n",
       "1      South Africa          Unknown   \n",
       "2           Unknown  Julien Leclercq   \n",
       "3           Unknown          Unknown   \n",
       "4             India          Unknown   \n",
       "...             ...              ...   \n",
       "8802  United States    David Fincher   \n",
       "8803        Unknown          Unknown   \n",
       "8804  United States  Ruben Fleischer   \n",
       "8805  United States     Peter Hewitt   \n",
       "8806          India      Mozez Singh   \n",
       "\n",
       "                                                   cast  \n",
       "0                                               Unknown  \n",
       "1     Ama Qamata, Khosi Ngema, Gail Mabalane, Thaban...  \n",
       "2     Sami Bouajila, Tracy Gotoas, Samuel Jouy, Nabi...  \n",
       "3                                               Unknown  \n",
       "4     Mayur More, Jitendra Kumar, Ranjan Raj, Alam K...  \n",
       "...                                                 ...  \n",
       "8802  Mark Ruffalo, Jake Gyllenhaal, Robert Downey J...  \n",
       "8803                                            Unknown  \n",
       "8804  Jesse Eisenberg, Woody Harrelson, Emma Stone, ...  \n",
       "8805  Tim Allen, Courteney Cox, Chevy Chase, Kate Ma...  \n",
       "8806  Vicky Kaushal, Sarah-Jane Dias, Raaghav Chanan...  \n",
       "\n",
       "[8807 rows x 3 columns]"
      ],
      "text/html": [
       "<div>\n",
       "<style scoped>\n",
       "    .dataframe tbody tr th:only-of-type {\n",
       "        vertical-align: middle;\n",
       "    }\n",
       "\n",
       "    .dataframe tbody tr th {\n",
       "        vertical-align: top;\n",
       "    }\n",
       "\n",
       "    .dataframe thead th {\n",
       "        text-align: right;\n",
       "    }\n",
       "</style>\n",
       "<table border=\"1\" class=\"dataframe\">\n",
       "  <thead>\n",
       "    <tr style=\"text-align: right;\">\n",
       "      <th></th>\n",
       "      <th>country</th>\n",
       "      <th>director</th>\n",
       "      <th>cast</th>\n",
       "    </tr>\n",
       "  </thead>\n",
       "  <tbody>\n",
       "    <tr>\n",
       "      <th>0</th>\n",
       "      <td>United States</td>\n",
       "      <td>Kirsten Johnson</td>\n",
       "      <td>Unknown</td>\n",
       "    </tr>\n",
       "    <tr>\n",
       "      <th>1</th>\n",
       "      <td>South Africa</td>\n",
       "      <td>Unknown</td>\n",
       "      <td>Ama Qamata, Khosi Ngema, Gail Mabalane, Thaban...</td>\n",
       "    </tr>\n",
       "    <tr>\n",
       "      <th>2</th>\n",
       "      <td>Unknown</td>\n",
       "      <td>Julien Leclercq</td>\n",
       "      <td>Sami Bouajila, Tracy Gotoas, Samuel Jouy, Nabi...</td>\n",
       "    </tr>\n",
       "    <tr>\n",
       "      <th>3</th>\n",
       "      <td>Unknown</td>\n",
       "      <td>Unknown</td>\n",
       "      <td>Unknown</td>\n",
       "    </tr>\n",
       "    <tr>\n",
       "      <th>4</th>\n",
       "      <td>India</td>\n",
       "      <td>Unknown</td>\n",
       "      <td>Mayur More, Jitendra Kumar, Ranjan Raj, Alam K...</td>\n",
       "    </tr>\n",
       "    <tr>\n",
       "      <th>...</th>\n",
       "      <td>...</td>\n",
       "      <td>...</td>\n",
       "      <td>...</td>\n",
       "    </tr>\n",
       "    <tr>\n",
       "      <th>8802</th>\n",
       "      <td>United States</td>\n",
       "      <td>David Fincher</td>\n",
       "      <td>Mark Ruffalo, Jake Gyllenhaal, Robert Downey J...</td>\n",
       "    </tr>\n",
       "    <tr>\n",
       "      <th>8803</th>\n",
       "      <td>Unknown</td>\n",
       "      <td>Unknown</td>\n",
       "      <td>Unknown</td>\n",
       "    </tr>\n",
       "    <tr>\n",
       "      <th>8804</th>\n",
       "      <td>United States</td>\n",
       "      <td>Ruben Fleischer</td>\n",
       "      <td>Jesse Eisenberg, Woody Harrelson, Emma Stone, ...</td>\n",
       "    </tr>\n",
       "    <tr>\n",
       "      <th>8805</th>\n",
       "      <td>United States</td>\n",
       "      <td>Peter Hewitt</td>\n",
       "      <td>Tim Allen, Courteney Cox, Chevy Chase, Kate Ma...</td>\n",
       "    </tr>\n",
       "    <tr>\n",
       "      <th>8806</th>\n",
       "      <td>India</td>\n",
       "      <td>Mozez Singh</td>\n",
       "      <td>Vicky Kaushal, Sarah-Jane Dias, Raaghav Chanan...</td>\n",
       "    </tr>\n",
       "  </tbody>\n",
       "</table>\n",
       "<p>8807 rows × 3 columns</p>\n",
       "</div>"
      ]
     },
     "execution_count": 7,
     "metadata": {},
     "output_type": "execute_result"
    }
   ],
   "execution_count": 7
  },
  {
   "metadata": {},
   "cell_type": "markdown",
   "source": [
    "#### Remplacement des valeurs manquantes dans \"rating' et 'duration'\n",
    "par celle la moyenne des autres valeurs"
   ],
   "id": "606f1e09c7cf50c9"
  },
  {
   "metadata": {
    "ExecuteTime": {
     "end_time": "2025-02-26T15:52:27.206703Z",
     "start_time": "2025-02-26T15:52:27.172697Z"
    }
   },
   "cell_type": "code",
   "source": [
    "counter = data.groupby('rating').agg(total=('rating', 'count')).reset_index().sort_values('total', ascending=False).iloc[0, 0]\n",
    "\n",
    "data.loc[data['rating'].isnull(), 'rating'] = counter"
   ],
   "id": "201904c66c737843",
   "outputs": [],
   "execution_count": 8
  },
  {
   "metadata": {
    "ExecuteTime": {
     "end_time": "2025-02-26T15:52:27.454696Z",
     "start_time": "2025-02-26T15:52:27.404653Z"
    }
   },
   "cell_type": "code",
   "source": [
    "counterMovie = data.loc[data['is_movie'], ].groupby('duration').agg(totalMovie=('duration', 'count')).reset_index().sort_values('totalMovie', ascending=False).iloc[0, 0]\n",
    "\n",
    "counterNotMovie = data.loc[data['is_movie']==False, ].groupby('duration').agg(totalMovie=('duration', 'count')).reset_index().sort_values('totalMovie', ascending=False).iloc[0, 0]\n",
    "\n",
    "data.loc[(data['is_movie'] == True & data['duration'].isnull()), 'duration'] = counterMovie\n",
    "data.loc[(data['is_movie'] == False & data['duration'].isnull()), 'duration'] = counterNotMovie"
   ],
   "id": "7969faa48880fa6a",
   "outputs": [],
   "execution_count": 9
  },
  {
   "metadata": {},
   "cell_type": "markdown",
   "source": "#### Remplacement des valeurs manquante de 'date_added' par celle de la ligne suivante",
   "id": "867e94db21c2a5c7"
  },
  {
   "metadata": {
    "ExecuteTime": {
     "end_time": "2025-02-26T15:52:27.612897Z",
     "start_time": "2025-02-26T15:52:27.589866Z"
    }
   },
   "cell_type": "code",
   "source": [
    "followingsRow = data.loc[data['date_added'].isnull(), 'date_added'].index +1\n",
    "\n",
    "for row in followingsRow:\n",
    "    data.iloc[row-1, 6] = data.iloc[row, 6]"
   ],
   "id": "a013bbfe52b827c7",
   "outputs": [],
   "execution_count": 10
  },
  {
   "metadata": {
    "ExecuteTime": {
     "end_time": "2025-02-26T15:52:27.748951Z",
     "start_time": "2025-02-26T15:52:27.701711Z"
    }
   },
   "cell_type": "code",
   "source": "data.isna().sum()",
   "id": "6d8d563279d01f56",
   "outputs": [
    {
     "data": {
      "text/plain": [
       "show_id         0\n",
       "type            0\n",
       "title           0\n",
       "director        0\n",
       "cast            0\n",
       "country         0\n",
       "date_added      0\n",
       "release_year    0\n",
       "rating          0\n",
       "duration        0\n",
       "listed_in       0\n",
       "description     0\n",
       "is_movie        0\n",
       "dtype: int64"
      ]
     },
     "execution_count": 11,
     "metadata": {},
     "output_type": "execute_result"
    }
   ],
   "execution_count": 11
  },
  {
   "metadata": {},
   "cell_type": "markdown",
   "source": "À présent toutes les valeurs manquantes ont été nettoyés et transformés",
   "id": "d449a66edb6da066"
  },
  {
   "metadata": {},
   "cell_type": "markdown",
   "source": "#### Création d'une colonne \"duration_minutes\" qui extrait la durée des films en minutes",
   "id": "d85308cbd62d300e"
  },
  {
   "metadata": {
    "ExecuteTime": {
     "end_time": "2025-02-26T15:52:27.979403Z",
     "start_time": "2025-02-26T15:52:27.949188Z"
    }
   },
   "cell_type": "code",
   "source": [
    "data['duration_minutes'] = 0\n",
    "data.loc[data['is_movie'], 'duration_minutes'] = data.loc[data['is_movie'], 'duration']"
   ],
   "id": "8403c7f33c15dae6",
   "outputs": [
    {
     "name": "stderr",
     "output_type": "stream",
     "text": [
      "/tmp/ipykernel_15179/3143983037.py:2: FutureWarning: Setting an item of incompatible dtype is deprecated and will raise an error in a future version of pandas. Value '['90 min' '91 min' '125 min' ... '88 min' '88 min' '111 min']' has dtype incompatible with int64, please explicitly cast to a compatible dtype first.\n",
      "  data.loc[data['is_movie'], 'duration_minutes'] = data.loc[data['is_movie'], 'duration']\n"
     ]
    }
   ],
   "execution_count": 12
  },
  {
   "metadata": {
    "ExecuteTime": {
     "end_time": "2025-02-26T15:52:28.200656Z",
     "start_time": "2025-02-26T15:52:28.174236Z"
    }
   },
   "cell_type": "code",
   "source": [
    "minuteList = data.loc[data['is_movie'], 'duration_minutes']\n",
    "liste = []\n",
    "for minutes in minuteList:\n",
    "    minutes = minutes.split(' ')\n",
    "    minutes.pop(1)\n",
    "    minutes = ''.join(minutes)\n",
    "    minutes = int(minutes)\n",
    "    liste.append(minutes)\n",
    "data.loc[data['is_movie'], 'duration_minutes'] = liste"
   ],
   "id": "6a848e396592e0ff",
   "outputs": [],
   "execution_count": 13
  },
  {
   "metadata": {
    "ExecuteTime": {
     "end_time": "2025-02-26T15:52:28.335306Z",
     "start_time": "2025-02-26T15:52:28.293052Z"
    }
   },
   "cell_type": "code",
   "source": "data",
   "id": "df7bcb2c02d3af38",
   "outputs": [
    {
     "data": {
      "text/plain": [
       "     show_id     type                  title         director  \\\n",
       "0         s1    Movie   Dick Johnson Is Dead  Kirsten Johnson   \n",
       "1         s2  TV Show          Blood & Water          Unknown   \n",
       "2         s3  TV Show              Ganglands  Julien Leclercq   \n",
       "3         s4  TV Show  Jailbirds New Orleans          Unknown   \n",
       "4         s5  TV Show           Kota Factory          Unknown   \n",
       "...      ...      ...                    ...              ...   \n",
       "8802   s8803    Movie                 Zodiac    David Fincher   \n",
       "8803   s8804  TV Show            Zombie Dumb          Unknown   \n",
       "8804   s8805    Movie             Zombieland  Ruben Fleischer   \n",
       "8805   s8806    Movie                   Zoom     Peter Hewitt   \n",
       "8806   s8807    Movie                 Zubaan      Mozez Singh   \n",
       "\n",
       "                                                   cast        country  \\\n",
       "0                                               Unknown  United States   \n",
       "1     Ama Qamata, Khosi Ngema, Gail Mabalane, Thaban...   South Africa   \n",
       "2     Sami Bouajila, Tracy Gotoas, Samuel Jouy, Nabi...        Unknown   \n",
       "3                                               Unknown        Unknown   \n",
       "4     Mayur More, Jitendra Kumar, Ranjan Raj, Alam K...          India   \n",
       "...                                                 ...            ...   \n",
       "8802  Mark Ruffalo, Jake Gyllenhaal, Robert Downey J...  United States   \n",
       "8803                                            Unknown        Unknown   \n",
       "8804  Jesse Eisenberg, Woody Harrelson, Emma Stone, ...  United States   \n",
       "8805  Tim Allen, Courteney Cox, Chevy Chase, Kate Ma...  United States   \n",
       "8806  Vicky Kaushal, Sarah-Jane Dias, Raaghav Chanan...          India   \n",
       "\n",
       "      date_added  release_year rating  duration  \\\n",
       "0     2021-09-25          2020  PG-13    90 min   \n",
       "1     2021-09-24          2021  TV-MA  1 Season   \n",
       "2     2021-09-24          2021  TV-MA  1 Season   \n",
       "3     2021-09-24          2021  TV-MA  1 Season   \n",
       "4     2021-09-24          2021  TV-MA  1 Season   \n",
       "...          ...           ...    ...       ...   \n",
       "8802  2019-11-20          2007      R   158 min   \n",
       "8803  2019-07-01          2018  TV-Y7  1 Season   \n",
       "8804  2019-11-01          2009      R    88 min   \n",
       "8805  2020-01-11          2006     PG    88 min   \n",
       "8806  2019-03-02          2015  TV-14   111 min   \n",
       "\n",
       "                                              listed_in  \\\n",
       "0                                         Documentaries   \n",
       "1       International TV Shows, TV Dramas, TV Mysteries   \n",
       "2     Crime TV Shows, International TV Shows, TV Act...   \n",
       "3                                Docuseries, Reality TV   \n",
       "4     International TV Shows, Romantic TV Shows, TV ...   \n",
       "...                                                 ...   \n",
       "8802                     Cult Movies, Dramas, Thrillers   \n",
       "8803             Kids' TV, Korean TV Shows, TV Comedies   \n",
       "8804                            Comedies, Horror Movies   \n",
       "8805                 Children & Family Movies, Comedies   \n",
       "8806     Dramas, International Movies, Music & Musicals   \n",
       "\n",
       "                                            description  is_movie  \\\n",
       "0     As her father nears the end of his life, filmm...      True   \n",
       "1     After crossing paths at a party, a Cape Town t...     False   \n",
       "2     To protect his family from a powerful drug lor...     False   \n",
       "3     Feuds, flirtations and toilet talk go down amo...     False   \n",
       "4     In a city of coaching centers known to train I...     False   \n",
       "...                                                 ...       ...   \n",
       "8802  A political cartoonist, a crime reporter and a...      True   \n",
       "8803  While living alone in a spooky town, a young g...     False   \n",
       "8804  Looking to survive in a world taken over by zo...      True   \n",
       "8805  Dragged from civilian life, a former superhero...      True   \n",
       "8806  A scrappy but poor boy worms his way into a ty...      True   \n",
       "\n",
       "     duration_minutes  \n",
       "0                  90  \n",
       "1                   0  \n",
       "2                   0  \n",
       "3                   0  \n",
       "4                   0  \n",
       "...               ...  \n",
       "8802              158  \n",
       "8803                0  \n",
       "8804               88  \n",
       "8805               88  \n",
       "8806              111  \n",
       "\n",
       "[8807 rows x 14 columns]"
      ],
      "text/html": [
       "<div>\n",
       "<style scoped>\n",
       "    .dataframe tbody tr th:only-of-type {\n",
       "        vertical-align: middle;\n",
       "    }\n",
       "\n",
       "    .dataframe tbody tr th {\n",
       "        vertical-align: top;\n",
       "    }\n",
       "\n",
       "    .dataframe thead th {\n",
       "        text-align: right;\n",
       "    }\n",
       "</style>\n",
       "<table border=\"1\" class=\"dataframe\">\n",
       "  <thead>\n",
       "    <tr style=\"text-align: right;\">\n",
       "      <th></th>\n",
       "      <th>show_id</th>\n",
       "      <th>type</th>\n",
       "      <th>title</th>\n",
       "      <th>director</th>\n",
       "      <th>cast</th>\n",
       "      <th>country</th>\n",
       "      <th>date_added</th>\n",
       "      <th>release_year</th>\n",
       "      <th>rating</th>\n",
       "      <th>duration</th>\n",
       "      <th>listed_in</th>\n",
       "      <th>description</th>\n",
       "      <th>is_movie</th>\n",
       "      <th>duration_minutes</th>\n",
       "    </tr>\n",
       "  </thead>\n",
       "  <tbody>\n",
       "    <tr>\n",
       "      <th>0</th>\n",
       "      <td>s1</td>\n",
       "      <td>Movie</td>\n",
       "      <td>Dick Johnson Is Dead</td>\n",
       "      <td>Kirsten Johnson</td>\n",
       "      <td>Unknown</td>\n",
       "      <td>United States</td>\n",
       "      <td>2021-09-25</td>\n",
       "      <td>2020</td>\n",
       "      <td>PG-13</td>\n",
       "      <td>90 min</td>\n",
       "      <td>Documentaries</td>\n",
       "      <td>As her father nears the end of his life, filmm...</td>\n",
       "      <td>True</td>\n",
       "      <td>90</td>\n",
       "    </tr>\n",
       "    <tr>\n",
       "      <th>1</th>\n",
       "      <td>s2</td>\n",
       "      <td>TV Show</td>\n",
       "      <td>Blood &amp; Water</td>\n",
       "      <td>Unknown</td>\n",
       "      <td>Ama Qamata, Khosi Ngema, Gail Mabalane, Thaban...</td>\n",
       "      <td>South Africa</td>\n",
       "      <td>2021-09-24</td>\n",
       "      <td>2021</td>\n",
       "      <td>TV-MA</td>\n",
       "      <td>1 Season</td>\n",
       "      <td>International TV Shows, TV Dramas, TV Mysteries</td>\n",
       "      <td>After crossing paths at a party, a Cape Town t...</td>\n",
       "      <td>False</td>\n",
       "      <td>0</td>\n",
       "    </tr>\n",
       "    <tr>\n",
       "      <th>2</th>\n",
       "      <td>s3</td>\n",
       "      <td>TV Show</td>\n",
       "      <td>Ganglands</td>\n",
       "      <td>Julien Leclercq</td>\n",
       "      <td>Sami Bouajila, Tracy Gotoas, Samuel Jouy, Nabi...</td>\n",
       "      <td>Unknown</td>\n",
       "      <td>2021-09-24</td>\n",
       "      <td>2021</td>\n",
       "      <td>TV-MA</td>\n",
       "      <td>1 Season</td>\n",
       "      <td>Crime TV Shows, International TV Shows, TV Act...</td>\n",
       "      <td>To protect his family from a powerful drug lor...</td>\n",
       "      <td>False</td>\n",
       "      <td>0</td>\n",
       "    </tr>\n",
       "    <tr>\n",
       "      <th>3</th>\n",
       "      <td>s4</td>\n",
       "      <td>TV Show</td>\n",
       "      <td>Jailbirds New Orleans</td>\n",
       "      <td>Unknown</td>\n",
       "      <td>Unknown</td>\n",
       "      <td>Unknown</td>\n",
       "      <td>2021-09-24</td>\n",
       "      <td>2021</td>\n",
       "      <td>TV-MA</td>\n",
       "      <td>1 Season</td>\n",
       "      <td>Docuseries, Reality TV</td>\n",
       "      <td>Feuds, flirtations and toilet talk go down amo...</td>\n",
       "      <td>False</td>\n",
       "      <td>0</td>\n",
       "    </tr>\n",
       "    <tr>\n",
       "      <th>4</th>\n",
       "      <td>s5</td>\n",
       "      <td>TV Show</td>\n",
       "      <td>Kota Factory</td>\n",
       "      <td>Unknown</td>\n",
       "      <td>Mayur More, Jitendra Kumar, Ranjan Raj, Alam K...</td>\n",
       "      <td>India</td>\n",
       "      <td>2021-09-24</td>\n",
       "      <td>2021</td>\n",
       "      <td>TV-MA</td>\n",
       "      <td>1 Season</td>\n",
       "      <td>International TV Shows, Romantic TV Shows, TV ...</td>\n",
       "      <td>In a city of coaching centers known to train I...</td>\n",
       "      <td>False</td>\n",
       "      <td>0</td>\n",
       "    </tr>\n",
       "    <tr>\n",
       "      <th>...</th>\n",
       "      <td>...</td>\n",
       "      <td>...</td>\n",
       "      <td>...</td>\n",
       "      <td>...</td>\n",
       "      <td>...</td>\n",
       "      <td>...</td>\n",
       "      <td>...</td>\n",
       "      <td>...</td>\n",
       "      <td>...</td>\n",
       "      <td>...</td>\n",
       "      <td>...</td>\n",
       "      <td>...</td>\n",
       "      <td>...</td>\n",
       "      <td>...</td>\n",
       "    </tr>\n",
       "    <tr>\n",
       "      <th>8802</th>\n",
       "      <td>s8803</td>\n",
       "      <td>Movie</td>\n",
       "      <td>Zodiac</td>\n",
       "      <td>David Fincher</td>\n",
       "      <td>Mark Ruffalo, Jake Gyllenhaal, Robert Downey J...</td>\n",
       "      <td>United States</td>\n",
       "      <td>2019-11-20</td>\n",
       "      <td>2007</td>\n",
       "      <td>R</td>\n",
       "      <td>158 min</td>\n",
       "      <td>Cult Movies, Dramas, Thrillers</td>\n",
       "      <td>A political cartoonist, a crime reporter and a...</td>\n",
       "      <td>True</td>\n",
       "      <td>158</td>\n",
       "    </tr>\n",
       "    <tr>\n",
       "      <th>8803</th>\n",
       "      <td>s8804</td>\n",
       "      <td>TV Show</td>\n",
       "      <td>Zombie Dumb</td>\n",
       "      <td>Unknown</td>\n",
       "      <td>Unknown</td>\n",
       "      <td>Unknown</td>\n",
       "      <td>2019-07-01</td>\n",
       "      <td>2018</td>\n",
       "      <td>TV-Y7</td>\n",
       "      <td>1 Season</td>\n",
       "      <td>Kids' TV, Korean TV Shows, TV Comedies</td>\n",
       "      <td>While living alone in a spooky town, a young g...</td>\n",
       "      <td>False</td>\n",
       "      <td>0</td>\n",
       "    </tr>\n",
       "    <tr>\n",
       "      <th>8804</th>\n",
       "      <td>s8805</td>\n",
       "      <td>Movie</td>\n",
       "      <td>Zombieland</td>\n",
       "      <td>Ruben Fleischer</td>\n",
       "      <td>Jesse Eisenberg, Woody Harrelson, Emma Stone, ...</td>\n",
       "      <td>United States</td>\n",
       "      <td>2019-11-01</td>\n",
       "      <td>2009</td>\n",
       "      <td>R</td>\n",
       "      <td>88 min</td>\n",
       "      <td>Comedies, Horror Movies</td>\n",
       "      <td>Looking to survive in a world taken over by zo...</td>\n",
       "      <td>True</td>\n",
       "      <td>88</td>\n",
       "    </tr>\n",
       "    <tr>\n",
       "      <th>8805</th>\n",
       "      <td>s8806</td>\n",
       "      <td>Movie</td>\n",
       "      <td>Zoom</td>\n",
       "      <td>Peter Hewitt</td>\n",
       "      <td>Tim Allen, Courteney Cox, Chevy Chase, Kate Ma...</td>\n",
       "      <td>United States</td>\n",
       "      <td>2020-01-11</td>\n",
       "      <td>2006</td>\n",
       "      <td>PG</td>\n",
       "      <td>88 min</td>\n",
       "      <td>Children &amp; Family Movies, Comedies</td>\n",
       "      <td>Dragged from civilian life, a former superhero...</td>\n",
       "      <td>True</td>\n",
       "      <td>88</td>\n",
       "    </tr>\n",
       "    <tr>\n",
       "      <th>8806</th>\n",
       "      <td>s8807</td>\n",
       "      <td>Movie</td>\n",
       "      <td>Zubaan</td>\n",
       "      <td>Mozez Singh</td>\n",
       "      <td>Vicky Kaushal, Sarah-Jane Dias, Raaghav Chanan...</td>\n",
       "      <td>India</td>\n",
       "      <td>2019-03-02</td>\n",
       "      <td>2015</td>\n",
       "      <td>TV-14</td>\n",
       "      <td>111 min</td>\n",
       "      <td>Dramas, International Movies, Music &amp; Musicals</td>\n",
       "      <td>A scrappy but poor boy worms his way into a ty...</td>\n",
       "      <td>True</td>\n",
       "      <td>111</td>\n",
       "    </tr>\n",
       "  </tbody>\n",
       "</table>\n",
       "<p>8807 rows × 14 columns</p>\n",
       "</div>"
      ]
     },
     "execution_count": 14,
     "metadata": {},
     "output_type": "execute_result"
    }
   ],
   "execution_count": 14
  },
  {
   "metadata": {},
   "cell_type": "markdown",
   "source": "# Sauvegarde du DataFrame",
   "id": "f5cdd4bf34e23250"
  },
  {
   "metadata": {
    "ExecuteTime": {
     "end_time": "2025-02-26T15:52:29.057762Z",
     "start_time": "2025-02-26T15:52:28.673264Z"
    }
   },
   "cell_type": "code",
   "source": "data.to_csv('../data/data_cleaned.csv', index=False)",
   "id": "2131388c955e834d",
   "outputs": [],
   "execution_count": 15
  }
 ],
 "metadata": {
  "kernelspec": {
   "display_name": "Python 3",
   "language": "python",
   "name": "python3"
  },
  "language_info": {
   "codemirror_mode": {
    "name": "ipython",
    "version": 2
   },
   "file_extension": ".py",
   "mimetype": "text/x-python",
   "name": "python",
   "nbconvert_exporter": "python",
   "pygments_lexer": "ipython2",
   "version": "2.7.6"
  }
 },
 "nbformat": 4,
 "nbformat_minor": 5
}
